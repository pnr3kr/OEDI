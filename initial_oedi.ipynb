{
 "cells": [
  {
   "cell_type": "code",
   "execution_count": 1,
   "id": "d30f22cb",
   "metadata": {},
   "outputs": [],
   "source": [
    "import pandas as pd\n",
    "import numpy as np\n",
    "import matplotlib.pyplot as plt\n",
    "import seaborn as sns"
   ]
  },
  {
   "cell_type": "code",
   "execution_count": 2,
   "id": "aad3c18d",
   "metadata": {},
   "outputs": [],
   "source": [
    "course_df = pd.read_excel(\"data/OEDI Course Overview Data.xlsx\", engine='openpyxl')\n",
    "majmin_df = pd.read_excel(\"data/OEDI Student Major-Minor Data.xlsx\", engine='openpyxl')"
   ]
  },
  {
   "cell_type": "code",
   "execution_count": 3,
   "id": "f2007d02",
   "metadata": {},
   "outputs": [
    {
     "name": "stdout",
     "output_type": "stream",
     "text": [
      "   UniqueID  Term Desc Class Academic Career Class Academic Group  \\\n",
      "0   2048211  2024 Fall                  GRAD                 EDUC   \n",
      "1   2048211  2024 Fall                  GRAD                 EDUC   \n",
      "2   2050224  2024 Fall                  NOCR                 SCPS   \n",
      "3   2050505  2024 Fall                  UGRD                 CGAS   \n",
      "4   2051646  2024 Fall                  NOCR                 SCPS   \n",
      "\n",
      "        Class Academic Group Desc Course ID  Class Num Subject  \\\n",
      "0  School of Education & HumanDev     45805      15302    EDIS   \n",
      "1  School of Education & HumanDev     47366      20575    EDIS   \n",
      "2       Continuing & Prof Studies     47131      20803    NCBM   \n",
      "3   College & Graduate Arts & Sci     38645      19160    JAPN   \n",
      "4       Continuing & Prof Studies     47387      20891    NCBM   \n",
      "\n",
      "                                      Subject Desc  Catalog Number  \\\n",
      "0  Education-Curriculum, Instruction, & Special Ed            8970   \n",
      "1  Education-Curriculum, Instruction, & Special Ed            7835   \n",
      "2               Non-Credit Business and Management             501   \n",
      "3                                         Japanese            1559   \n",
      "4               Non-Credit Business and Management             510   \n",
      "\n",
      "  Class Section                    Class Title SIS Location  \\\n",
      "0           500                    Field Study       ONLINE   \n",
      "1           500                 Global Lessons       ONLINE   \n",
      "2          H550  Higher Ed Prog Ex Lev Assts I   UNIVERSITY   \n",
      "3             1               New Course: JAPN         MAIN   \n",
      "4          R550  Res Admin Prog High Ed Prof I   UNIVERSITY   \n",
      "\n",
      "        SIS Location Desc Instruction Mode Instruction Mode Desc  \\\n",
      "0                  Online               OA   Online Asynchronous   \n",
      "1                  Online               OA   Online Asynchronous   \n",
      "2  University of Virginia                P             In Person   \n",
      "3              On Grounds                P             In Person   \n",
      "4  University of Virginia               OS    Online Synchronous   \n",
      "\n",
      "  Class Component Class Campus Class Campus Desc  \n",
      "0       Practicum        ONLNE            Online  \n",
      "1         Lecture        ONLNE            Online  \n",
      "2         Lecture         SCPS       SCPS Campus  \n",
      "3         Lecture         MAIN       Main Campus  \n",
      "4         Lecture         SCPS       SCPS Campus  \n",
      "   UniqueID  Term Desc Admit Term Desc       Academic Level Degree Level  \\\n",
      "0   2048211  2024 Fall     2022 Summer          Second Year         DOCT   \n",
      "1   2050505  2024 Fall       2024 Fall              Not Set          COS   \n",
      "2   2054861  2024 Fall       2024 Fall  Professional Year 1         MAST   \n",
      "3   2056493  2024 Fall       2023 Fall  Professional Year 2         MAST   \n",
      "4   2058009  2024 Fall     2013 Spring              Not Set          COS   \n",
      "\n",
      "                  Academic Plan School Academic Plan Type Code  \\\n",
      "0                            Education                     MAJ   \n",
      "1  Continuing and Professional Studies                     COS   \n",
      "2                               Darden                     MAJ   \n",
      "3                               Darden                     MAJ   \n",
      "4  Continuing and Professional Studies                     COS   \n",
      "\n",
      "  Academic Plan Type Academic Plan              Academic Plan Desc  \\\n",
      "0              Major    CURRIN-EDD  Curriculum & Instruction (EDD)   \n",
      "1    Course of Study       CS-CPUN               Community Scholar   \n",
      "2              Major    BUSADMNV-E      Business Admin-NoVa (EMBA)   \n",
      "3              Major    BUSADMNV-G     Business Admin-NoVa (GEMBA)   \n",
      "4    Course of Study       CS-CPUN               Community Scholar   \n",
      "\n",
      "                        Primary Major/Minor Desc Program Campus  \\\n",
      "0                     Curriculum and Instruction          ONLNE   \n",
      "1                              Community Scholar           SCPS   \n",
      "2         Business Administration for Executives           MAIN   \n",
      "3  Business Administration for Executives Global           MAIN   \n",
      "4                              Community Scholar           SCPS   \n",
      "\n",
      "  Program Campus Desc  \n",
      "0              Online  \n",
      "1         SCPS Campus  \n",
      "2         Main Campus  \n",
      "3         Main Campus  \n",
      "4         SCPS Campus  \n"
     ]
    }
   ],
   "source": [
    "# Do some initial observations to see what the data looks like and what we can do with it\n",
    "print(course_df.head())\n",
    "print(majmin_df.head())\n"
   ]
  },
  {
   "cell_type": "code",
   "execution_count": 52,
   "id": "2dd93937",
   "metadata": {},
   "outputs": [
    {
     "name": "stdout",
     "output_type": "stream",
     "text": [
      "UniqueID                       0\n",
      "Term Desc                      0\n",
      "Class Academic Career          0\n",
      "Class Academic Group           0\n",
      "Class Academic Group Desc      0\n",
      "Course ID                      0\n",
      "Class Num                      0\n",
      "Subject                        0\n",
      "Subject Desc                   0\n",
      "Catalog Number                 0\n",
      "Class Section                  0\n",
      "Class Title                    0\n",
      "SIS Location                   0\n",
      "SIS Location Desc            661\n",
      "Instruction Mode               0\n",
      "Instruction Mode Desc          0\n",
      "Class Component                0\n",
      "Class Campus                   0\n",
      "Class Campus Desc              0\n",
      "dtype: int64\n"
     ]
    }
   ],
   "source": [
    "# Check for missing values in the course data\n",
    "print(course_df.isnull().sum())"
   ]
  },
  {
   "cell_type": "code",
   "execution_count": 51,
   "id": "01f53694",
   "metadata": {},
   "outputs": [
    {
     "name": "stdout",
     "output_type": "stream",
     "text": [
      "UniqueID                    0\n",
      "Term Desc                   0\n",
      "Admit Term Desc             0\n",
      "Academic Level              0\n",
      "Degree Level                0\n",
      "Academic Plan School        0\n",
      "Academic Plan Type Code     0\n",
      "Academic Plan Type          0\n",
      "Academic Plan               0\n",
      "Academic Plan Desc          0\n",
      "Primary Major/Minor Desc    0\n",
      "Program Campus              0\n",
      "Program Campus Desc         0\n",
      "dtype: int64\n"
     ]
    }
   ],
   "source": [
    "# Check for missing values in the major-minor data\n",
    "print(majmin_df.isnull().sum())"
   ]
  },
  {
   "cell_type": "code",
   "execution_count": 6,
   "id": "1136d624",
   "metadata": {},
   "outputs": [
    {
     "name": "stdout",
     "output_type": "stream",
     "text": [
      "UniqueID                      int64\n",
      "Term Desc                    object\n",
      "Class Academic Career        object\n",
      "Class Academic Group         object\n",
      "Class Academic Group Desc    object\n",
      "Course ID                    object\n",
      "Class Num                     int64\n",
      "Subject                      object\n",
      "Subject Desc                 object\n",
      "Catalog Number                int64\n",
      "Class Section                object\n",
      "Class Title                  object\n",
      "SIS Location                 object\n",
      "SIS Location Desc            object\n",
      "Instruction Mode             object\n",
      "Instruction Mode Desc        object\n",
      "Class Component              object\n",
      "Class Campus                 object\n",
      "Class Campus Desc            object\n",
      "dtype: object\n",
      "UniqueID                     int64\n",
      "Term Desc                   object\n",
      "Admit Term Desc             object\n",
      "Academic Level              object\n",
      "Degree Level                object\n",
      "Academic Plan School        object\n",
      "Academic Plan Type Code     object\n",
      "Academic Plan Type          object\n",
      "Academic Plan               object\n",
      "Academic Plan Desc          object\n",
      "Primary Major/Minor Desc    object\n",
      "Program Campus              object\n",
      "Program Campus Desc         object\n",
      "dtype: object\n"
     ]
    }
   ],
   "source": [
    "# Check the data types of the columns in course_df\n",
    "print(course_df.dtypes)\n",
    "# Check the data types of the columns in majmin_df\n",
    "print(majmin_df.dtypes)"
   ]
  },
  {
   "cell_type": "code",
   "execution_count": 11,
   "id": "38bd9e68",
   "metadata": {},
   "outputs": [
    {
     "name": "stdout",
     "output_type": "stream",
     "text": [
      "   UniqueID  Term Desc Admit Term Desc Academic Level Degree Level  \\\n",
      "0   2048211  2024 Fall     2022 Summer    Second Year         DOCT   \n",
      "1   2050505  2024 Fall       2024 Fall        Not Set          COS   \n",
      "\n",
      "                  Academic Plan School Academic Plan Type Code  \\\n",
      "0                            Education                     MAJ   \n",
      "1  Continuing and Professional Studies                     COS   \n",
      "\n",
      "  Academic Plan Type Academic Plan              Academic Plan Desc  \\\n",
      "0              Major    CURRIN-EDD  Curriculum & Instruction (EDD)   \n",
      "1    Course of Study       CS-CPUN               Community Scholar   \n",
      "\n",
      "     Primary Major/Minor Desc Program Campus Program Campus Desc  \n",
      "0  Curriculum and Instruction          ONLNE              Online  \n",
      "1           Community Scholar           SCPS         SCPS Campus  \n"
     ]
    }
   ],
   "source": [
    "print(majmin_df.head(2))"
   ]
  },
  {
   "cell_type": "code",
   "execution_count": null,
   "id": "8f96ae9b",
   "metadata": {},
   "outputs": [],
   "source": [
    "plt.legend(title=\"Academic Plan Type\", frameon=False)"
   ]
  },
  {
   "cell_type": "code",
   "execution_count": null,
   "id": "e68c6017",
   "metadata": {},
   "outputs": [
    {
     "data": {
      "image/png": "[encoded data removed]",
      "text/plain": [
       "<Figure size 1200x600 with 1 Axes>"
      ]
     },
     "metadata": {},
     "output_type": "display_data"
    }
   ],
   "source": [
    "# Create a plot that displays the distribution of academic plan types by campus\n",
    "plt.figure(figsize=(12, 6))\n",
    "\n",
    "sns.countplot(data=majmin_df, x=\"Program Campus\", hue=\"Academic Plan Type\")\n",
    "\n",
    "plt.suptitle(\"Distribution of Academic Plan Types by Location\", fontweight='bold', fontsize=16)\n",
    "\n",
    "plt.xlabel(\"Program Campus\")\n",
    "plt.ylim(0, 1000)\n",
    "plt.ylabel(\"Count\")\n",
    "\n",
    "plt.legend(title=\"Academic Plan Type\", frameon=False, loc='upper right')\n",
    "plt.figtext(0.01,0.035, \"Data Source: OEDI Course Overview Data and OEDI Student Major-Minor Data\", fontsize=8, ha='left')\n",
    "plt.figtext(0.01,0.01, \"* Major and Minor bars for Main are far above 1000\", fontsize=8, ha='left')\n",
    "\n",
    "sns.despine(top=True, right=True)\n",
    "\n",
    "plt.tight_layout()\n",
    "plt.show()\n"
   ]
  }
 ],
 "metadata": {
  "kernelspec": {
   "display_name": "Python 3",
   "language": "python",
   "name": "python3"
  },
  "language_info": {
   "codemirror_mode": {
    "name": "ipython",
    "version": 3
   },
   "file_extension": ".py",
   "mimetype": "text/x-python",
   "name": "python",
   "nbconvert_exporter": "python",
   "pygments_lexer": "ipython3",
   "version": "3.13.2"
  }
 },
 "nbformat": 4,
 "nbformat_minor": 5
}
