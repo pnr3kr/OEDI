{
 "cells": [
  {
   "cell_type": "code",
   "execution_count": 23,
   "id": "e386a1b8",
   "metadata": {},
   "outputs": [],
   "source": [
    "import pandas as pd\n",
    "import numpy as np\n",
    "import matplotlib.pyplot as plt\n",
    "import seaborn as sns"
   ]
  },
  {
   "cell_type": "code",
   "execution_count": null,
   "id": "1145b784",
   "metadata": {},
   "outputs": [],
   "source": [
    "course_df = pd.read_csv(\"../data/OEDI Course Overview Data.csv\")\n",
    "majmin_df = pd.read_csv(\"../data/OEDI Student Major-Minor Data.csv\")"
   ]
  },
  {
   "cell_type": "code",
   "execution_count": 26,
   "id": "606262f7",
   "metadata": {},
   "outputs": [],
   "source": [
    "merged_df = pd.merge(course_df, majmin_df, on='UniqueID', how='inner')"
   ]
  },
  {
   "cell_type": "code",
   "execution_count": 27,
   "id": "aa2b6ac2",
   "metadata": {},
   "outputs": [
    {
     "data": {
      "text/html": [
       "<div>\n",
       "<style scoped>\n",
       "    .dataframe tbody tr th:only-of-type {\n",
       "        vertical-align: middle;\n",
       "    }\n",
       "\n",
       "    .dataframe tbody tr th {\n",
       "        vertical-align: top;\n",
       "    }\n",
       "\n",
       "    .dataframe thead th {\n",
       "        text-align: right;\n",
       "    }\n",
       "</style>\n",
       "<table border=\"1\" class=\"dataframe\">\n",
       "  <thead>\n",
       "    <tr style=\"text-align: right;\">\n",
       "      <th></th>\n",
       "      <th>UniqueID</th>\n",
       "      <th>Term Desc_x</th>\n",
       "      <th>Class Academic Career</th>\n",
       "      <th>Class Academic Group</th>\n",
       "      <th>Class Academic Group Desc</th>\n",
       "      <th>Course ID</th>\n",
       "      <th>Class Num</th>\n",
       "      <th>Subject</th>\n",
       "      <th>Subject Desc</th>\n",
       "      <th>Catalog Number</th>\n",
       "      <th>...</th>\n",
       "      <th>Academic Level</th>\n",
       "      <th>Degree Level</th>\n",
       "      <th>Academic Plan School</th>\n",
       "      <th>Academic Plan Type Code</th>\n",
       "      <th>Academic Plan Type</th>\n",
       "      <th>Academic Plan</th>\n",
       "      <th>Academic Plan Desc</th>\n",
       "      <th>Primary Major/Minor Desc</th>\n",
       "      <th>Program Campus</th>\n",
       "      <th>Program Campus Desc</th>\n",
       "    </tr>\n",
       "  </thead>\n",
       "  <tbody>\n",
       "    <tr>\n",
       "      <th>0</th>\n",
       "      <td>2048211</td>\n",
       "      <td>2024 Fall</td>\n",
       "      <td>GRAD</td>\n",
       "      <td>EDUC</td>\n",
       "      <td>School of Education &amp; HumanDev</td>\n",
       "      <td>45805</td>\n",
       "      <td>15302</td>\n",
       "      <td>EDIS</td>\n",
       "      <td>Education-Curriculum, Instruction, &amp; Special Ed</td>\n",
       "      <td>8970</td>\n",
       "      <td>...</td>\n",
       "      <td>Second Year</td>\n",
       "      <td>DOCT</td>\n",
       "      <td>Education</td>\n",
       "      <td>MAJ</td>\n",
       "      <td>Major</td>\n",
       "      <td>CURRIN-EDD</td>\n",
       "      <td>Curriculum &amp; Instruction (EDD)</td>\n",
       "      <td>Curriculum and Instruction</td>\n",
       "      <td>ONLNE</td>\n",
       "      <td>Online</td>\n",
       "    </tr>\n",
       "    <tr>\n",
       "      <th>1</th>\n",
       "      <td>2048211</td>\n",
       "      <td>2024 Fall</td>\n",
       "      <td>GRAD</td>\n",
       "      <td>EDUC</td>\n",
       "      <td>School of Education &amp; HumanDev</td>\n",
       "      <td>47366</td>\n",
       "      <td>20575</td>\n",
       "      <td>EDIS</td>\n",
       "      <td>Education-Curriculum, Instruction, &amp; Special Ed</td>\n",
       "      <td>7835</td>\n",
       "      <td>...</td>\n",
       "      <td>Second Year</td>\n",
       "      <td>DOCT</td>\n",
       "      <td>Education</td>\n",
       "      <td>MAJ</td>\n",
       "      <td>Major</td>\n",
       "      <td>CURRIN-EDD</td>\n",
       "      <td>Curriculum &amp; Instruction (EDD)</td>\n",
       "      <td>Curriculum and Instruction</td>\n",
       "      <td>ONLNE</td>\n",
       "      <td>Online</td>\n",
       "    </tr>\n",
       "    <tr>\n",
       "      <th>2</th>\n",
       "      <td>2050505</td>\n",
       "      <td>2024 Fall</td>\n",
       "      <td>UGRD</td>\n",
       "      <td>CGAS</td>\n",
       "      <td>College &amp; Graduate Arts &amp; Sci</td>\n",
       "      <td>38645</td>\n",
       "      <td>19160</td>\n",
       "      <td>JAPN</td>\n",
       "      <td>Japanese</td>\n",
       "      <td>1559</td>\n",
       "      <td>...</td>\n",
       "      <td>Not Set</td>\n",
       "      <td>COS</td>\n",
       "      <td>Continuing and Professional Studies</td>\n",
       "      <td>COS</td>\n",
       "      <td>Course of Study</td>\n",
       "      <td>CS-CPUN</td>\n",
       "      <td>Community Scholar</td>\n",
       "      <td>Community Scholar</td>\n",
       "      <td>SCPS</td>\n",
       "      <td>SCPS Campus</td>\n",
       "    </tr>\n",
       "    <tr>\n",
       "      <th>3</th>\n",
       "      <td>2054861</td>\n",
       "      <td>2024 Fall</td>\n",
       "      <td>BUSN</td>\n",
       "      <td>GBUS</td>\n",
       "      <td>Darden Grad School of Business</td>\n",
       "      <td>14825</td>\n",
       "      <td>18832</td>\n",
       "      <td>GBUS</td>\n",
       "      <td>Graduate Business</td>\n",
       "      <td>7400</td>\n",
       "      <td>...</td>\n",
       "      <td>Professional Year 1</td>\n",
       "      <td>MAST</td>\n",
       "      <td>Darden</td>\n",
       "      <td>MAJ</td>\n",
       "      <td>Major</td>\n",
       "      <td>BUSADMNV-E</td>\n",
       "      <td>Business Admin-NoVa (EMBA)</td>\n",
       "      <td>Business Administration for Executives</td>\n",
       "      <td>MAIN</td>\n",
       "      <td>Main Campus</td>\n",
       "    </tr>\n",
       "    <tr>\n",
       "      <th>4</th>\n",
       "      <td>2054861</td>\n",
       "      <td>2024 Fall</td>\n",
       "      <td>BUSN</td>\n",
       "      <td>GBUS</td>\n",
       "      <td>Darden Grad School of Business</td>\n",
       "      <td>15330</td>\n",
       "      <td>18799</td>\n",
       "      <td>GBUS</td>\n",
       "      <td>Graduate Business</td>\n",
       "      <td>7235</td>\n",
       "      <td>...</td>\n",
       "      <td>Professional Year 1</td>\n",
       "      <td>MAST</td>\n",
       "      <td>Darden</td>\n",
       "      <td>MAJ</td>\n",
       "      <td>Major</td>\n",
       "      <td>BUSADMNV-E</td>\n",
       "      <td>Business Admin-NoVa (EMBA)</td>\n",
       "      <td>Business Administration for Executives</td>\n",
       "      <td>MAIN</td>\n",
       "      <td>Main Campus</td>\n",
       "    </tr>\n",
       "  </tbody>\n",
       "</table>\n",
       "<p>5 rows × 31 columns</p>\n",
       "</div>"
      ],
      "text/plain": [
       "   UniqueID Term Desc_x Class Academic Career Class Academic Group  \\\n",
       "0   2048211   2024 Fall                  GRAD                 EDUC   \n",
       "1   2048211   2024 Fall                  GRAD                 EDUC   \n",
       "2   2050505   2024 Fall                  UGRD                 CGAS   \n",
       "3   2054861   2024 Fall                  BUSN                 GBUS   \n",
       "4   2054861   2024 Fall                  BUSN                 GBUS   \n",
       "\n",
       "        Class Academic Group Desc Course ID  Class Num Subject  \\\n",
       "0  School of Education & HumanDev     45805      15302    EDIS   \n",
       "1  School of Education & HumanDev     47366      20575    EDIS   \n",
       "2   College & Graduate Arts & Sci     38645      19160    JAPN   \n",
       "3  Darden Grad School of Business     14825      18832    GBUS   \n",
       "4  Darden Grad School of Business     15330      18799    GBUS   \n",
       "\n",
       "                                      Subject Desc  Catalog Number  ...  \\\n",
       "0  Education-Curriculum, Instruction, & Special Ed            8970  ...   \n",
       "1  Education-Curriculum, Instruction, & Special Ed            7835  ...   \n",
       "2                                         Japanese            1559  ...   \n",
       "3                                Graduate Business            7400  ...   \n",
       "4                                Graduate Business            7235  ...   \n",
       "\n",
       "        Academic Level Degree Level                 Academic Plan School  \\\n",
       "0          Second Year         DOCT                            Education   \n",
       "1          Second Year         DOCT                            Education   \n",
       "2              Not Set          COS  Continuing and Professional Studies   \n",
       "3  Professional Year 1         MAST                               Darden   \n",
       "4  Professional Year 1         MAST                               Darden   \n",
       "\n",
       "  Academic Plan Type Code Academic Plan Type Academic Plan  \\\n",
       "0                     MAJ              Major    CURRIN-EDD   \n",
       "1                     MAJ              Major    CURRIN-EDD   \n",
       "2                     COS    Course of Study       CS-CPUN   \n",
       "3                     MAJ              Major    BUSADMNV-E   \n",
       "4                     MAJ              Major    BUSADMNV-E   \n",
       "\n",
       "               Academic Plan Desc                Primary Major/Minor Desc  \\\n",
       "0  Curriculum & Instruction (EDD)              Curriculum and Instruction   \n",
       "1  Curriculum & Instruction (EDD)              Curriculum and Instruction   \n",
       "2               Community Scholar                       Community Scholar   \n",
       "3      Business Admin-NoVa (EMBA)  Business Administration for Executives   \n",
       "4      Business Admin-NoVa (EMBA)  Business Administration for Executives   \n",
       "\n",
       "  Program Campus Program Campus Desc  \n",
       "0          ONLNE              Online  \n",
       "1          ONLNE              Online  \n",
       "2           SCPS         SCPS Campus  \n",
       "3           MAIN         Main Campus  \n",
       "4           MAIN         Main Campus  \n",
       "\n",
       "[5 rows x 31 columns]"
      ]
     },
     "execution_count": 27,
     "metadata": {},
     "output_type": "execute_result"
    }
   ],
   "source": [
    "merged_df.head()"
   ]
  },
  {
   "cell_type": "code",
   "execution_count": 28,
   "id": "b705e3c1",
   "metadata": {},
   "outputs": [
    {
     "name": "stdout",
     "output_type": "stream",
     "text": [
      "(216361, 31)\n",
      "Index(['UniqueID', 'Term Desc_x', 'Class Academic Career',\n",
      "       'Class Academic Group', 'Class Academic Group Desc', 'Course ID',\n",
      "       'Class Num', 'Subject', 'Subject Desc', 'Catalog Number',\n",
      "       'Class Section', 'Class Title', 'SIS Location', 'SIS Location Desc',\n",
      "       'Instruction Mode', 'Instruction Mode Desc', 'Class Component',\n",
      "       'Class Campus', 'Class Campus Desc', 'Term Desc_y', 'Admit Term Desc',\n",
      "       'Academic Level', 'Degree Level', 'Academic Plan School',\n",
      "       'Academic Plan Type Code', 'Academic Plan Type', 'Academic Plan',\n",
      "       'Academic Plan Desc', 'Primary Major/Minor Desc', 'Program Campus',\n",
      "       'Program Campus Desc'],\n",
      "      dtype='object')\n"
     ]
    }
   ],
   "source": [
    "print(merged_df.shape)\n",
    "print(merged_df.columns)\n"
   ]
  },
  {
   "cell_type": "code",
   "execution_count": 32,
   "id": "a15c0666",
   "metadata": {},
   "outputs": [
    {
     "data": {
      "text/plain": [
       "np.int64(0)"
      ]
     },
     "execution_count": 32,
     "metadata": {},
     "output_type": "execute_result"
    }
   ],
   "source": [
    "(merged_df['SIS Location Desc'] == '').sum()\n"
   ]
  },
  {
   "cell_type": "code",
   "execution_count": null,
   "id": "94883f52",
   "metadata": {},
   "outputs": [],
   "source": [
    "merged_df.info()\n"
   ]
  },
  {
   "cell_type": "code",
   "execution_count": 33,
   "id": "bf50f328",
   "metadata": {},
   "outputs": [
    {
     "name": "stdout",
     "output_type": "stream",
     "text": [
      "0\n"
     ]
    }
   ],
   "source": [
    "# Checking for duplicates\n",
    "print(merged_df.duplicated().sum())"
   ]
  },
  {
   "cell_type": "code",
   "execution_count": 34,
   "id": "3f883a99",
   "metadata": {},
   "outputs": [
    {
     "name": "stdout",
     "output_type": "stream",
     "text": [
      "UniqueID                     0\n",
      "Term Desc_x                  0\n",
      "Class Academic Career        0\n",
      "Class Academic Group         0\n",
      "Class Academic Group Desc    0\n",
      "Course ID                    0\n",
      "Class Num                    0\n",
      "Subject                      0\n",
      "Subject Desc                 0\n",
      "Catalog Number               0\n",
      "Class Section                0\n",
      "Class Title                  0\n",
      "SIS Location                 0\n",
      "SIS Location Desc            0\n",
      "Instruction Mode             0\n",
      "Instruction Mode Desc        0\n",
      "Class Component              0\n",
      "Class Campus                 0\n",
      "Class Campus Desc            0\n",
      "Term Desc_y                  0\n",
      "Admit Term Desc              0\n",
      "Academic Level               0\n",
      "Degree Level                 0\n",
      "Academic Plan School         0\n",
      "Academic Plan Type Code      0\n",
      "Academic Plan Type           0\n",
      "Academic Plan                0\n",
      "Academic Plan Desc           0\n",
      "Primary Major/Minor Desc     0\n",
      "Program Campus               0\n",
      "Program Campus Desc          0\n",
      "dtype: int64\n"
     ]
    }
   ],
   "source": [
    "# Checking for missing values\n",
    "print(merged_df.isnull().sum())"
   ]
  },
  {
   "cell_type": "code",
   "execution_count": null,
   "id": "290cac56",
   "metadata": {},
   "outputs": [
    {
     "name": "stdout",
     "output_type": "stream",
     "text": [
      "(182424, 19)\n",
      "(31663, 13)\n",
      "(216361, 31)\n"
     ]
    }
   ],
   "source": [
    "print(course_df.shape)\n",
    "print(majmin_df.shape)\n",
    "print(merged_df.shape)"
   ]
  },
  {
   "cell_type": "code",
   "execution_count": null,
   "id": "9c80a5fa",
   "metadata": {},
   "outputs": [],
   "source": [
    "course_df = pd.read_csv(\"../data/OEDI Course Overview Data.csv\")\n",
    "majmin_df = pd.read_csv(\"../data/OEDI Student Major-Minor Data.csv\")"
   ]
  },
  {
   "cell_type": "code",
   "execution_count": null,
   "id": "dbf9a40b",
   "metadata": {},
   "outputs": [
    {
     "name": "stdout",
     "output_type": "stream",
     "text": [
      "UniqueID                     0\n",
      "Term Desc                    0\n",
      "Class Academic Career        0\n",
      "Class Academic Group         0\n",
      "Class Academic Group Desc    0\n",
      "Course ID                    0\n",
      "Class Num                    0\n",
      "Subject                      0\n",
      "Subject Desc                 0\n",
      "Catalog Number               0\n",
      "Class Section                0\n",
      "Class Title                  0\n",
      "SIS Location                 0\n",
      "SIS Location Desc            0\n",
      "Instruction Mode             0\n",
      "Instruction Mode Desc        0\n",
      "Class Component              0\n",
      "Class Campus                 0\n",
      "Class Campus Desc            0\n",
      "dtype: int64\n",
      "UniqueID                    0\n",
      "Term Desc                   0\n",
      "Admit Term Desc             0\n",
      "Academic Level              0\n",
      "Degree Level                0\n",
      "Academic Plan School        0\n",
      "Academic Plan Type Code     0\n",
      "Academic Plan Type          0\n",
      "Academic Plan               0\n",
      "Academic Plan Desc          0\n",
      "Primary Major/Minor Desc    0\n",
      "Program Campus              0\n",
      "Program Campus Desc         0\n",
      "dtype: int64\n"
     ]
    }
   ],
   "source": [
    "# check for nulls\n",
    "print(course_df.isnull().sum())\n",
    "print(majmin_df.isnull().sum())\n",
    "# check for duplicates"
   ]
  },
  {
   "cell_type": "code",
   "execution_count": null,
   "id": "4190a31f",
   "metadata": {},
   "outputs": [],
   "source": [
    "df1 = pd.read_excel(\"../data/course.xlsx\")\n",
    "df2 = pd.read_excel(\"../data/majmin.xlsx\")"
   ]
  },
  {
   "cell_type": "code",
   "execution_count": 35,
   "id": "563cb9fd",
   "metadata": {},
   "outputs": [
    {
     "name": "stdout",
     "output_type": "stream",
     "text": [
      "UniqueID                       0\n",
      "Term Desc                      0\n",
      "Class Academic Career          0\n",
      "Class Academic Group           0\n",
      "Class Academic Group Desc      0\n",
      "Course ID                      0\n",
      "Class Num                      0\n",
      "Subject                        0\n",
      "Subject Desc                   0\n",
      "Catalog Number                 0\n",
      "Class Section                  0\n",
      "Class Title                    0\n",
      "SIS Location                   0\n",
      "SIS Location Desc            661\n",
      "Instruction Mode               0\n",
      "Instruction Mode Desc          0\n",
      "Class Component                0\n",
      "Class Campus                   0\n",
      "Class Campus Desc              0\n",
      "dtype: int64\n",
      "UniqueID                    0\n",
      "Term Desc                   0\n",
      "Admit Term Desc             0\n",
      "Academic Level              0\n",
      "Degree Level                0\n",
      "Academic Plan School        0\n",
      "Academic Plan Type Code     0\n",
      "Academic Plan Type          0\n",
      "Academic Plan               0\n",
      "Academic Plan Desc          0\n",
      "Primary Major/Minor Desc    0\n",
      "Program Campus              0\n",
      "Program Campus Desc         0\n",
      "dtype: int64\n"
     ]
    }
   ],
   "source": [
    "# check for nulls\n",
    "print(df1.isnull().sum())\n",
    "print(df2.isnull().sum())"
   ]
  },
  {
   "cell_type": "code",
   "execution_count": null,
   "id": "0040701c",
   "metadata": {},
   "outputs": [
    {
     "name": "stdout",
     "output_type": "stream",
     "text": [
      "SIS Location Desc    661\n",
      "dtype: int64\n"
     ]
    }
   ],
   "source": [
    "nulls = df1.isnull().sum()\n",
    "print(nulls[nulls > 0])  # Only show columns with missing values\n"
   ]
  },
  {
   "cell_type": "code",
   "execution_count": 36,
   "id": "b893cbe2",
   "metadata": {},
   "outputs": [],
   "source": [
    "test = pd.read_csv(\"../data/OEDI Course Overview Data.csv\", na_values=['', ' ', 'N/A', 'n/a', 'None', 'none', 'NaN', 'nan', 'NA', 'na', \"\", \" \"])"
   ]
  },
  {
   "cell_type": "code",
   "execution_count": 37,
   "id": "76d8dc75",
   "metadata": {},
   "outputs": [
    {
     "name": "stdout",
     "output_type": "stream",
     "text": [
      "Series([], dtype: int64)\n"
     ]
    }
   ],
   "source": [
    "nulls = test.isnull().sum()\n",
    "print(nulls[nulls > 0])  # Only show columns with missing values"
   ]
  },
  {
   "cell_type": "code",
   "execution_count": 38,
   "id": "5161f0a6",
   "metadata": {},
   "outputs": [
    {
     "name": "stdout",
     "output_type": "stream",
     "text": [
      "['Online' 'University of Virginia' 'On Grounds' 'Off-Grounds' '#NAME?'\n",
      " 'SCPS FBI National Academy' 'Inova Fairfax Medical Campus'\n",
      " 'International Study' 'Italy: Venice' 'Spain: Barcelona'\n",
      " 'SCPS Northern Virginia Center' 'Italy: Siena' 'Spain: Valencia'\n",
      " 'Italy: Florence' 'Scotland' 'England: London']\n"
     ]
    }
   ],
   "source": [
    "print(test['SIS Location Desc'].unique())\n"
   ]
  },
  {
   "cell_type": "code",
   "execution_count": 40,
   "id": "a6afb294",
   "metadata": {},
   "outputs": [],
   "source": [
    "test['SIS Location Desc'] = test['SIS Location Desc'].replace('#NAME?', pd.NA)\n"
   ]
  },
  {
   "cell_type": "code",
   "execution_count": 41,
   "id": "54bdb033",
   "metadata": {},
   "outputs": [
    {
     "name": "stdout",
     "output_type": "stream",
     "text": [
      "661\n"
     ]
    }
   ],
   "source": [
    "print(test['SIS Location Desc'].isnull().sum())\n"
   ]
  },
  {
   "cell_type": "markdown",
   "id": "5df2154e",
   "metadata": {},
   "source": [
    "### When you run the file as a csv, the null values disappear as they are displayed as the string '#NAME?', to solve this problem you just hbave to replace all of these values with NA then you can use csv file."
   ]
  },
  {
   "cell_type": "code",
   "execution_count": 42,
   "id": "719afb1e",
   "metadata": {},
   "outputs": [],
   "source": [
    "course_df = pd.read_csv(\"../data/OEDI Course Overview Data.csv\")\n",
    "majmin_df = pd.read_csv(\"../data/OEDI Student Major-Minor Data.csv\")\n",
    "\n",
    "# Replacing \"#NAME?\" values in 'SIS Location Desc' with NaN\n",
    "course_df['SIS Location Desc'] = course_df['SIS Location Desc'].replace('#NAME?', pd.NA)\n",
    "\n",
    "# Merging the two dataframes on 'UniqueID'\n",
    "merged_df = pd.merge(course_df, majmin_df, on='UniqueID', how='inner')"
   ]
  },
  {
   "cell_type": "code",
   "execution_count": null,
   "id": "41a9271c",
   "metadata": {},
   "outputs": [],
   "source": []
  }
 ],
 "metadata": {
  "kernelspec": {
   "display_name": "Python 3",
   "language": "python",
   "name": "python3"
  },
  "language_info": {
   "codemirror_mode": {
    "name": "ipython",
    "version": 3
   },
   "file_extension": ".py",
   "mimetype": "text/x-python",
   "name": "python",
   "nbconvert_exporter": "python",
   "pygments_lexer": "ipython3",
   "version": "3.13.2"
  }
 },
 "nbformat": 4,
 "nbformat_minor": 5
}
